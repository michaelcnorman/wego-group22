{
 "cells": [
  {
   "cell_type": "code",
   "execution_count": 1,
   "id": "44472145",
   "metadata": {},
   "outputs": [],
   "source": [
    "import requests\n",
    "import json\n",
    "import pandas as pd"
   ]
  },
  {
   "cell_type": "code",
   "execution_count": 1,
   "id": "20d00880",
   "metadata": {},
   "outputs": [
    {
     "ename": "FileNotFoundError",
     "evalue": "[Errno 2] No such file or directory: '../data/WeGo.json'",
     "output_type": "error",
     "traceback": [
      "\u001b[1;31m---------------------------------------------------------------------------\u001b[0m",
      "\u001b[1;31mFileNotFoundError\u001b[0m                         Traceback (most recent call last)",
      "Input \u001b[1;32mIn [1]\u001b[0m, in \u001b[0;36m<cell line: 1>\u001b[1;34m()\u001b[0m\n\u001b[1;32m----> 1\u001b[0m \u001b[38;5;28;01mwith\u001b[39;00m \u001b[38;5;28;43mopen\u001b[39;49m\u001b[43m(\u001b[49m\u001b[38;5;124;43m'\u001b[39;49m\u001b[38;5;124;43m../data/WeGo.json\u001b[39;49m\u001b[38;5;124;43m'\u001b[39;49m\u001b[43m)\u001b[49m \u001b[38;5;28;01mas\u001b[39;00m fi:\n\u001b[0;32m      2\u001b[0m     credentials \u001b[38;5;241m=\u001b[39m json\u001b[38;5;241m.\u001b[39mload(fi)\n",
      "\u001b[1;31mFileNotFoundError\u001b[0m: [Errno 2] No such file or directory: '../data/WeGo.json'"
     ]
    }
   ],
   "source": [
    "with open('../data/WeGo.json') as fi:\n",
    "    credentials = json.load(fi)"
   ]
  },
  {
   "cell_type": "code",
   "execution_count": 21,
   "id": "7c2c4669",
   "metadata": {},
   "outputs": [],
   "source": [
    "Authorization = credentials['Authorization']"
   ]
  },
  {
   "cell_type": "code",
   "execution_count": 22,
   "id": "11b10b45",
   "metadata": {},
   "outputs": [],
   "source": [
    "URL = 'https://api.goswift.ly/speed-map/nashville/route/55'\n",
    "\n",
    "params = {\n",
    "    'direction': '1',\n",
    "    'startDate': '03-15-2022',\n",
    "    'resolution': 'hiRes',\n",
    "}\n",
    "\n",
    "headers = {'Authorization': Authorization,\n",
    "          'Content-Type': 'application/json'}"
   ]
  },
  {
   "cell_type": "code",
   "execution_count": 23,
   "id": "daf5beb9",
   "metadata": {},
   "outputs": [],
   "source": [
    "response = requests.get(URL, params = params, headers = headers)"
   ]
  },
  {
   "cell_type": "code",
   "execution_count": 28,
   "id": "3eef4af2",
   "metadata": {},
   "outputs": [],
   "source": [
    "res = response.json()"
   ]
  },
  {
   "cell_type": "code",
   "execution_count": 29,
   "id": "6130e7ba",
   "metadata": {
    "scrolled": true
   },
   "outputs": [
    {
     "data": {
      "text/html": [
       "<div>\n",
       "<style scoped>\n",
       "    .dataframe tbody tr th:only-of-type {\n",
       "        vertical-align: middle;\n",
       "    }\n",
       "\n",
       "    .dataframe tbody tr th {\n",
       "        vertical-align: top;\n",
       "    }\n",
       "\n",
       "    .dataframe thead th {\n",
       "        text-align: right;\n",
       "    }\n",
       "</style>\n",
       "<table border=\"1\" class=\"dataframe\">\n",
       "  <thead>\n",
       "    <tr style=\"text-align: right;\">\n",
       "      <th></th>\n",
       "      <th>0</th>\n",
       "    </tr>\n",
       "  </thead>\n",
       "  <tbody>\n",
       "    <tr>\n",
       "      <th>0</th>\n",
       "      <td>b'{\"success\":true,\"route\":\"/speed-map/nashvill...</td>\n",
       "    </tr>\n",
       "    <tr>\n",
       "      <th>1</th>\n",
       "      <td>b'37139},{\"lat\":36.09690230447848,\"lon\":-86.65...</td>\n",
       "    </tr>\n",
       "    <tr>\n",
       "      <th>2</th>\n",
       "      <td>b'0Secs\":1.478,\"medianSecs\":1.349,\"percent30Se...</td>\n",
       "    </tr>\n",
       "    <tr>\n",
       "      <th>3</th>\n",
       "      <td>b'rs\":24.504,\"averageTravelSeconds\":1.392989,\"...</td>\n",
       "    </tr>\n",
       "    <tr>\n",
       "      <th>4</th>\n",
       "      <td>b'N_to_MURHARWN\",\"stopId\":\"MURHARWN\",\"stopName...</td>\n",
       "    </tr>\n",
       "    <tr>\n",
       "      <th>...</th>\n",
       "      <td>...</td>\n",
       "    </tr>\n",
       "    <tr>\n",
       "      <th>7712</th>\n",
       "      <td>b'sboro Pike &amp; Reedwood Dr\",\"gtfsStopSeq\":16,\"...</td>\n",
       "    </tr>\n",
       "    <tr>\n",
       "      <th>7713</th>\n",
       "      <td>b'n\":-86.66675},{\"lat\":36.10356,\"lon\":-86.6668...</td>\n",
       "    </tr>\n",
       "    <tr>\n",
       "      <th>7714</th>\n",
       "      <td>b'onfigRev\":49,\"stopPathId\":\"MURFRANN_to_MURHA...</td>\n",
       "    </tr>\n",
       "    <tr>\n",
       "      <th>7715</th>\n",
       "      <td>b'\":15,\"pathLength\":686.1,\"locations\":[{\"lat\":...</td>\n",
       "    </tr>\n",
       "    <tr>\n",
       "      <th>7716</th>\n",
       "      <td>b'65501},{\"lat\":36.09842,\"lon\":-86.65903}]},\"c...</td>\n",
       "    </tr>\n",
       "  </tbody>\n",
       "</table>\n",
       "<p>7717 rows × 1 columns</p>\n",
       "</div>"
      ],
      "text/plain": [
       "                                                      0\n",
       "0     b'{\"success\":true,\"route\":\"/speed-map/nashvill...\n",
       "1     b'37139},{\"lat\":36.09690230447848,\"lon\":-86.65...\n",
       "2     b'0Secs\":1.478,\"medianSecs\":1.349,\"percent30Se...\n",
       "3     b'rs\":24.504,\"averageTravelSeconds\":1.392989,\"...\n",
       "4     b'N_to_MURHARWN\",\"stopId\":\"MURHARWN\",\"stopName...\n",
       "...                                                 ...\n",
       "7712  b'sboro Pike & Reedwood Dr\",\"gtfsStopSeq\":16,\"...\n",
       "7713  b'n\":-86.66675},{\"lat\":36.10356,\"lon\":-86.6668...\n",
       "7714  b'onfigRev\":49,\"stopPathId\":\"MURFRANN_to_MURHA...\n",
       "7715  b'\":15,\"pathLength\":686.1,\"locations\":[{\"lat\":...\n",
       "7716  b'65501},{\"lat\":36.09842,\"lon\":-86.65903}]},\"c...\n",
       "\n",
       "[7717 rows x 1 columns]"
      ]
     },
     "execution_count": 29,
     "metadata": {},
     "output_type": "execute_result"
    }
   ],
   "source": [
    "pd.DataFrame(response)"
   ]
  },
  {
   "cell_type": "markdown",
   "id": "f75f0600",
   "metadata": {},
   "source": [
    "response.keys()"
   ]
  },
  {
   "cell_type": "code",
   "execution_count": 30,
   "id": "8db28bf2",
   "metadata": {},
   "outputs": [
    {
     "data": {
      "text/plain": [
       "dict_keys(['success', 'route', 'data'])"
      ]
     },
     "execution_count": 30,
     "metadata": {},
     "output_type": "execute_result"
    }
   ],
   "source": [
    "res.keys()"
   ]
  },
  {
   "cell_type": "code",
   "execution_count": null,
   "id": "c8cc7fd5",
   "metadata": {},
   "outputs": [],
   "source": [
    "https://api.goswift.ly/info/{agencyKey}/routes"
   ]
  }
 ],
 "metadata": {
  "kernelspec": {
   "display_name": "Python 3 (ipykernel)",
   "language": "python",
   "name": "python3"
  },
  "language_info": {
   "codemirror_mode": {
    "name": "ipython",
    "version": 3
   },
   "file_extension": ".py",
   "mimetype": "text/x-python",
   "name": "python",
   "nbconvert_exporter": "python",
   "pygments_lexer": "ipython3",
   "version": "3.8.5"
  }
 },
 "nbformat": 4,
 "nbformat_minor": 5
}
